{
 "cells": [
  {
   "cell_type": "markdown",
   "metadata": {},
   "source": [
    "## Can you predict heart disease in patients?"
   ]
  },
  {
   "cell_type": "markdown",
   "metadata": {},
   "source": [
    "### Initialize"
   ]
  },
  {
   "cell_type": "code",
   "execution_count": 1,
   "metadata": {},
   "outputs": [],
   "source": [
    "import warnings\n",
    "warnings.filterwarnings('ignore')\n",
    "import numpy as np\n",
    "import pandas as pd\n",
    "import seaborn as sns\n",
    "import matplotlib.pyplot as plt\n",
    "from sklearn.metrics import mean_absolute_error\n",
    "from sklearn.model_selection import train_test_split"
   ]
  },
  {
   "cell_type": "code",
   "execution_count": 2,
   "metadata": {},
   "outputs": [],
   "source": [
    "dfHeartDs = pd.read_csv('heart_disease.csv')"
   ]
  },
  {
   "cell_type": "code",
   "execution_count": 3,
   "metadata": {},
   "outputs": [
    {
     "data": {
      "text/html": [
       "<div>\n",
       "<style scoped>\n",
       "    .dataframe tbody tr th:only-of-type {\n",
       "        vertical-align: middle;\n",
       "    }\n",
       "\n",
       "    .dataframe tbody tr th {\n",
       "        vertical-align: top;\n",
       "    }\n",
       "\n",
       "    .dataframe thead th {\n",
       "        text-align: right;\n",
       "    }\n",
       "</style>\n",
       "<table border=\"1\" class=\"dataframe\">\n",
       "  <thead>\n",
       "    <tr style=\"text-align: right;\">\n",
       "      <th></th>\n",
       "      <th>age</th>\n",
       "      <th>sex</th>\n",
       "      <th>cp</th>\n",
       "      <th>trestbps</th>\n",
       "      <th>chol</th>\n",
       "      <th>fbs</th>\n",
       "      <th>restecg</th>\n",
       "      <th>thalach</th>\n",
       "      <th>exang</th>\n",
       "      <th>oldpeak</th>\n",
       "      <th>slope</th>\n",
       "      <th>ca</th>\n",
       "      <th>thal</th>\n",
       "      <th>target</th>\n",
       "    </tr>\n",
       "  </thead>\n",
       "  <tbody>\n",
       "    <tr>\n",
       "      <th>0</th>\n",
       "      <td>63</td>\n",
       "      <td>1</td>\n",
       "      <td>3</td>\n",
       "      <td>145</td>\n",
       "      <td>233</td>\n",
       "      <td>1</td>\n",
       "      <td>0</td>\n",
       "      <td>150</td>\n",
       "      <td>0</td>\n",
       "      <td>2.3</td>\n",
       "      <td>0</td>\n",
       "      <td>0</td>\n",
       "      <td>1</td>\n",
       "      <td>1</td>\n",
       "    </tr>\n",
       "    <tr>\n",
       "      <th>1</th>\n",
       "      <td>37</td>\n",
       "      <td>1</td>\n",
       "      <td>2</td>\n",
       "      <td>130</td>\n",
       "      <td>250</td>\n",
       "      <td>0</td>\n",
       "      <td>1</td>\n",
       "      <td>187</td>\n",
       "      <td>0</td>\n",
       "      <td>3.5</td>\n",
       "      <td>0</td>\n",
       "      <td>0</td>\n",
       "      <td>2</td>\n",
       "      <td>1</td>\n",
       "    </tr>\n",
       "    <tr>\n",
       "      <th>2</th>\n",
       "      <td>41</td>\n",
       "      <td>0</td>\n",
       "      <td>1</td>\n",
       "      <td>130</td>\n",
       "      <td>204</td>\n",
       "      <td>0</td>\n",
       "      <td>0</td>\n",
       "      <td>172</td>\n",
       "      <td>0</td>\n",
       "      <td>1.4</td>\n",
       "      <td>2</td>\n",
       "      <td>0</td>\n",
       "      <td>2</td>\n",
       "      <td>1</td>\n",
       "    </tr>\n",
       "    <tr>\n",
       "      <th>3</th>\n",
       "      <td>56</td>\n",
       "      <td>1</td>\n",
       "      <td>1</td>\n",
       "      <td>120</td>\n",
       "      <td>236</td>\n",
       "      <td>0</td>\n",
       "      <td>1</td>\n",
       "      <td>178</td>\n",
       "      <td>0</td>\n",
       "      <td>0.8</td>\n",
       "      <td>2</td>\n",
       "      <td>0</td>\n",
       "      <td>2</td>\n",
       "      <td>1</td>\n",
       "    </tr>\n",
       "    <tr>\n",
       "      <th>4</th>\n",
       "      <td>57</td>\n",
       "      <td>0</td>\n",
       "      <td>0</td>\n",
       "      <td>120</td>\n",
       "      <td>354</td>\n",
       "      <td>0</td>\n",
       "      <td>1</td>\n",
       "      <td>163</td>\n",
       "      <td>1</td>\n",
       "      <td>0.6</td>\n",
       "      <td>2</td>\n",
       "      <td>0</td>\n",
       "      <td>2</td>\n",
       "      <td>1</td>\n",
       "    </tr>\n",
       "  </tbody>\n",
       "</table>\n",
       "</div>"
      ],
      "text/plain": [
       "   age  sex  cp  trestbps  chol  fbs  restecg  thalach  exang  oldpeak  slope  \\\n",
       "0   63    1   3       145   233    1        0      150      0      2.3      0   \n",
       "1   37    1   2       130   250    0        1      187      0      3.5      0   \n",
       "2   41    0   1       130   204    0        0      172      0      1.4      2   \n",
       "3   56    1   1       120   236    0        1      178      0      0.8      2   \n",
       "4   57    0   0       120   354    0        1      163      1      0.6      2   \n",
       "\n",
       "   ca  thal  target  \n",
       "0   0     1       1  \n",
       "1   0     2       1  \n",
       "2   0     2       1  \n",
       "3   0     2       1  \n",
       "4   0     2       1  "
      ]
     },
     "execution_count": 3,
     "metadata": {},
     "output_type": "execute_result"
    }
   ],
   "source": [
    "dfHeartDs.head()"
   ]
  },
  {
   "cell_type": "markdown",
   "metadata": {},
   "source": [
    "### Clean Data"
   ]
  },
  {
   "cell_type": "code",
   "execution_count": 4,
   "metadata": {},
   "outputs": [
    {
     "data": {
      "text/plain": [
       "age         0\n",
       "sex         0\n",
       "cp          0\n",
       "trestbps    0\n",
       "chol        0\n",
       "fbs         0\n",
       "restecg     0\n",
       "thalach     0\n",
       "exang       0\n",
       "oldpeak     0\n",
       "slope       0\n",
       "ca          0\n",
       "thal        0\n",
       "target      0\n",
       "dtype: int64"
      ]
     },
     "execution_count": 4,
     "metadata": {},
     "output_type": "execute_result"
    }
   ],
   "source": [
    "# We can see that there is no data to be cleaned\n",
    "dfHeartDs.isna().sum()"
   ]
  },
  {
   "cell_type": "code",
   "execution_count": 5,
   "metadata": {},
   "outputs": [
    {
     "data": {
      "text/plain": [
       "age           int64\n",
       "sex           int64\n",
       "cp            int64\n",
       "trestbps      int64\n",
       "chol          int64\n",
       "fbs           int64\n",
       "restecg       int64\n",
       "thalach       int64\n",
       "exang         int64\n",
       "oldpeak     float64\n",
       "slope         int64\n",
       "ca            int64\n",
       "thal          int64\n",
       "target        int64\n",
       "dtype: object"
      ]
     },
     "execution_count": 5,
     "metadata": {},
     "output_type": "execute_result"
    }
   ],
   "source": [
    "dfHeartDs.dtypes"
   ]
  },
  {
   "cell_type": "code",
   "execution_count": 6,
   "metadata": {},
   "outputs": [],
   "source": [
    "# Split into train and test\n",
    "# X_train, X_test, y_train, y_test = train_test_split(X, y, test_size=0.2, random_state=1)"
   ]
  },
  {
   "cell_type": "code",
   "execution_count": 7,
   "metadata": {},
   "outputs": [
    {
     "name": "stdout",
     "output_type": "stream",
     "text": [
      "age has 41 unique values\n",
      "sex has 2 unique values\n",
      "cp has 4 unique values\n",
      "trestbps has 49 unique values\n",
      "chol has 152 unique values\n",
      "fbs has 2 unique values\n",
      "restecg has 3 unique values\n",
      "thalach has 91 unique values\n",
      "exang has 2 unique values\n",
      "oldpeak has 40 unique values\n",
      "slope has 3 unique values\n",
      "ca has 5 unique values\n",
      "thal has 4 unique values\n",
      "target has 2 unique values\n"
     ]
    }
   ],
   "source": [
    "# Since all variables are numerical, we must check for uniqueness to retrieve categorical data\n",
    "for col in dfHeartDs:\n",
    "    print(col, \"has\", dfHeartDs[col].nunique(), \"unique values\")"
   ]
  },
  {
   "cell_type": "code",
   "execution_count": 8,
   "metadata": {},
   "outputs": [
    {
     "name": "stdout",
     "output_type": "stream",
     "text": [
      "['age', 'trestbps', 'chol', 'thalach', 'oldpeak']\n",
      "['sex', 'cp', 'fbs', 'restecg', 'exang', 'slope', 'ca', 'thal']\n"
     ]
    }
   ],
   "source": [
    "# Select numeric & categorical featues\n",
    "cols_num = []\n",
    "cols_cat = []\n",
    "for col in dfHeartDs:\n",
    "    if dfHeartDs[col].nunique() <= 5:\n",
    "        cols_cat.append(col)\n",
    "    else:\n",
    "        cols_num.append(col)\n",
    "        \n",
    "cols_cat.remove('target')\n",
    "print(cols_num)\n",
    "print(cols_cat)"
   ]
  },
  {
   "cell_type": "code",
   "execution_count": 9,
   "metadata": {},
   "outputs": [],
   "source": [
    "# Select features\n",
    "X = dfHeartDs.drop(['target'], axis=1)\n",
    "# Select target\n",
    "y = dfHeartDs.loc[:,['target']]\n",
    "\n",
    "X_train, X_test, y_train, y_test = train_test_split(X, y, test_size=0.2, random_state=42)"
   ]
  },
  {
   "cell_type": "code",
   "execution_count": 10,
   "metadata": {},
   "outputs": [],
   "source": [
    "# Label encoding only categorical features\n",
    "\n",
    "from sklearn.preprocessing import LabelEncoder\n",
    "\n",
    "label_encoder = LabelEncoder()\n",
    "\n",
    "Xle_train = X_train.copy()\n",
    "Xle_test = X_test.copy()\n",
    "\n",
    "label_encoder = LabelEncoder()\n",
    "\n",
    "for col in cols_cat:\n",
    "    Xle_train[col] = label_encoder.fit_transform(X_train[col])    \n",
    "    Xle_test[col] = label_encoder.transform(X_test[col])"
   ]
  },
  {
   "cell_type": "markdown",
   "metadata": {},
   "source": [
    "### Exploratory Data Analysis"
   ]
  },
  {
   "cell_type": "code",
   "execution_count": 11,
   "metadata": {},
   "outputs": [
    {
     "data": {
      "text/plain": [
       "<AxesSubplot:>"
      ]
     },
     "execution_count": 11,
     "metadata": {},
     "output_type": "execute_result"
    },
    {
     "data": {
      "image/png": "[encoded data removed]",
      "text/plain": [
       "<Figure size 1008x864 with 2 Axes>"
      ]
     },
     "metadata": {
      "needs_background": "light"
     },
     "output_type": "display_data"
    }
   ],
   "source": [
    "# Correlation heat map\n",
    "plt.subplots(figsize=(14, 12))\n",
    "sns.heatmap(dfHeartDs.corr(),annot=True,lw=1)"
   ]
  },
  {
   "cell_type": "code",
   "execution_count": 12,
   "metadata": {},
   "outputs": [],
   "source": [
    "# Create dataframe to showcase results\n",
    "res = {'Model Name':  [],\n",
    "        'Accuracy (before tuning)': [],\n",
    "        'Accuracy (after tuning)': [],\n",
    "        'Improvement percentage': []\n",
    "        }"
   ]
  },
  {
   "cell_type": "markdown",
   "metadata": {},
   "source": [
    "### Build and Tune Models"
   ]
  },
  {
   "cell_type": "code",
   "execution_count": 13,
   "metadata": {},
   "outputs": [],
   "source": [
    "from sklearn.metrics import accuracy_score, confusion_matrix, classification_report\n",
    "\n",
    "def get_accuracy(model, X_trn, X_tst, y_trn, y_tst):\n",
    "    model.fit(X_trn, y_trn)\n",
    "    y_tst_prd = model.predict(X_tst)\n",
    "    test_score = accuracy_score(y_tst, y_tst_prd) * 100\n",
    "    return test_score"
   ]
  },
  {
   "cell_type": "code",
   "execution_count": 14,
   "metadata": {},
   "outputs": [
    {
     "name": "stdout",
     "output_type": "stream",
     "text": [
      "The accuracy for Gaussian Naive Bayes Classifier is 86.89\n"
     ]
    }
   ],
   "source": [
    "# Naive Bayes Classifier (Using Gaussian dist)\n",
    "\n",
    "from sklearn.naive_bayes import GaussianNB\n",
    "\n",
    "mdlGnHD = GaussianNB()\n",
    "accuracyMdlGnHD = get_accuracy(mdlGnHD, Xle_train[cols_cat+cols_num], Xle_test[cols_cat+cols_num], y_train, y_test)\n",
    "print(\"The accuracy for Gaussian Naive Bayes Classifier is\", round(accuracyMdlGnHD,2))\n",
    "res['Model Name'].append(\"Gaussian Naive Bayes\")\n",
    "res['Accuracy (before tuning)'].append(str(round(accuracyMdlGnHD,2))+\"%\")"
   ]
  },
  {
   "cell_type": "code",
   "execution_count": 15,
   "metadata": {},
   "outputs": [
    {
     "name": "stdout",
     "output_type": "stream",
     "text": [
      "Best parameters: {'var_smoothing': 4.641588833612782e-05}\n",
      "Best estimator: GaussianNB(var_smoothing=4.641588833612782e-05)\n",
      "Best score: 0.8096666666666668\n",
      "The accuracy for Gaussian Naive Bayes Classifier Tuned is 88.52\n"
     ]
    }
   ],
   "source": [
    "# Naive Bayes Tuning\n",
    "\n",
    "mdlGnHD.get_params()\n",
    "\n",
    "from sklearn.model_selection import GridSearchCV\n",
    "\n",
    "param_dict = {\n",
    "    'var_smoothing': np.logspace(0, -11, num=100) # Return numbers spaced evenly on a log scale\n",
    "}\n",
    "\n",
    "# define\n",
    "mdlGnHD = GaussianNB()\n",
    "# tune\n",
    "mdlGnHD = GridSearchCV(estimator=mdlGnHD, param_grid=param_dict, cv=10)\n",
    "# fit\n",
    "mdlGnHD.fit(Xle_train[cols_cat+cols_num], y_train)\n",
    "\n",
    "print(\"Best parameters:\", mdlGnHD.best_params_)\n",
    "print(\"Best estimator:\", mdlGnHD.best_estimator_)\n",
    "print(\"Best score:\", mdlGnHD.best_score_)\n",
    "\n",
    "# predict\n",
    "tunedAccuracyMdlGnHD = get_accuracy(mdlGnHD, Xle_train[cols_cat+cols_num], Xle_test[cols_cat+cols_num], y_train, y_test)\n",
    "print(\"The accuracy for Gaussian Naive Bayes Classifier Tuned is\", round(tunedAccuracyMdlGnHD, 2))\n",
    "res['Accuracy (after tuning)'].append(str(round(tunedAccuracyMdlGnHD,2))+\"%\")\n",
    "impPg = tunedAccuracyMdlGnHD - accuracyMdlGnHD\n",
    "res['Improvement percentage'].append(str(round(impPg, 2))+\"%\")"
   ]
  },
  {
   "cell_type": "code",
   "execution_count": 16,
   "metadata": {},
   "outputs": [
    {
     "name": "stdout",
     "output_type": "stream",
     "text": [
      "The accuracy for K-Nearest Neighbors Classifier is 68.85\n"
     ]
    }
   ],
   "source": [
    "# K-Nearest Neighbors Classifier\n",
    "\n",
    "from sklearn.neighbors import KNeighborsClassifier\n",
    "\n",
    "mdlKnHD = KNeighborsClassifier()\n",
    "accuracyMdlKnHD = get_accuracy(mdlKnHD, Xle_train[cols_cat+cols_num], Xle_test[cols_cat+cols_num], y_train, y_test)\n",
    "print(\"The accuracy for K-Nearest Neighbors Classifier is\", round(accuracyMdlKnHD,2))\n",
    "res['Model Name'].append(\"K-Nearest Neighbors\")\n",
    "res['Accuracy (before tuning)'].append(str(round(accuracyMdlKnHD,2))+\"%\")"
   ]
  },
  {
   "cell_type": "code",
   "execution_count": 17,
   "metadata": {},
   "outputs": [
    {
     "name": "stdout",
     "output_type": "stream",
     "text": [
      "Best parameters: {'leaf_size': 1, 'n_neighbors': 5, 'p': 1}\n",
      "Best estimator: KNeighborsClassifier(leaf_size=1, p=1)\n",
      "Best score: 0.7023333333333334\n",
      "The accuracy for K-Nearest Neighbors Classifier Tuned is 70.49\n"
     ]
    }
   ],
   "source": [
    "# K-Nearest Neighbors Tuning\n",
    "mdlKnHD.get_params()\n",
    "\n",
    "param_dict = {\n",
    "    \"leaf_size\": list(range(1,50)),\n",
    "    \"n_neighbors\": list(range(1,30)),\n",
    "    \"p\": [1,2]\n",
    "}\n",
    "\n",
    "# define\n",
    "mdlKnHD = KNeighborsClassifier()\n",
    "# tune\n",
    "mdlKnHD = GridSearchCV(estimator=mdlKnHD, param_grid=param_dict, cv=10, n_jobs=-1)\n",
    "# fit\n",
    "mdlKnHD.fit(Xle_train[cols_cat+cols_num], y_train)\n",
    "\n",
    "print(\"Best parameters:\", mdlKnHD.best_params_)\n",
    "print(\"Best estimator:\", mdlKnHD.best_estimator_)\n",
    "print(\"Best score:\", mdlKnHD.best_score_)\n",
    "\n",
    "# predict\n",
    "tunedAccuracyMdlKnHD = get_accuracy(mdlKnHD, Xle_train[cols_cat+cols_num], Xle_test[cols_cat+cols_num], y_train, y_test)\n",
    "print(\"The accuracy for K-Nearest Neighbors Classifier Tuned is\", round(tunedAccuracyMdlKnHD,2))\n",
    "res['Accuracy (after tuning)'].append(str(round(tunedAccuracyMdlKnHD,2))+\"%\")\n",
    "impPg = tunedAccuracyMdlKnHD - accuracyMdlKnHD\n",
    "res['Improvement percentage'].append(str(round(impPg, 2))+\"%\")\n"
   ]
  },
  {
   "cell_type": "code",
   "execution_count": 18,
   "metadata": {},
   "outputs": [
    {
     "name": "stdout",
     "output_type": "stream",
     "text": [
      "The accuracy for Decision Tree Classifier is 83.61\n"
     ]
    }
   ],
   "source": [
    "# Decision Tree Classifier\n",
    "from sklearn.tree import DecisionTreeClassifier\n",
    "\n",
    "mdlDtHD = DecisionTreeClassifier(random_state=1)\n",
    "accuracyMdlDtHD = get_accuracy(mdlDtHD, Xle_train[cols_cat+cols_num], Xle_test[cols_cat+cols_num], y_train, y_test)\n",
    "print(\"The accuracy for Decision Tree Classifier is\", round(accuracyMdlDtHD,2))\n",
    "res['Model Name'].append(\"Decision Tree\")\n",
    "res['Accuracy (before tuning)'].append(str(round(accuracyMdlDtHD,2))+\"%\")"
   ]
  },
  {
   "cell_type": "code",
   "execution_count": 19,
   "metadata": {},
   "outputs": [
    {
     "name": "stdout",
     "output_type": "stream",
     "text": [
      "Best parameters: {'min_samples_split': 5, 'min_samples_leaf': 4, 'max_depth': 3, 'criterion': 'gini'}\n",
      "Best estimator: DecisionTreeClassifier(max_depth=3, min_samples_leaf=4, min_samples_split=5,\n",
      "                       random_state=1)\n",
      "Best score: 0.7896666666666666\n",
      "The accuracy for Decision Tree Classifier Tuned is 80.33\n"
     ]
    }
   ],
   "source": [
    "# Decision Tree Tuning\n",
    "\n",
    "mdlDtHD.get_params()\n",
    "\n",
    "from scipy.stats import randint\n",
    "from sklearn.model_selection import RandomizedSearchCV\n",
    "\n",
    "param_dict = { \n",
    "    \"criterion\":['gini', 'entropy'],\n",
    "    \"max_depth\":range(1,10),\n",
    "    \"min_samples_split\":range(1,10),\n",
    "    \"min_samples_leaf\":range(1,5)\n",
    "}\n",
    "\n",
    "# define\n",
    "mdlDtHD = DecisionTreeClassifier(random_state=1)    \n",
    "# tune\n",
    "mdlDtHD = RandomizedSearchCV(estimator=mdlDtHD, param_distributions=param_dict, cv=10, n_jobs=-1)\n",
    "# fit\n",
    "mdlDtHD.fit(Xle_train[cols_cat+cols_num], y_train)\n",
    "\n",
    "print(\"Best parameters:\", mdlDtHD.best_params_)\n",
    "print(\"Best estimator:\", mdlDtHD.best_estimator_)\n",
    "print(\"Best score:\", mdlDtHD.best_score_)\n",
    "\n",
    "# predict\n",
    "tunedAccuracyMdlDtHD = get_accuracy(mdlDtHD, Xle_train[cols_cat+cols_num], Xle_test[cols_cat+cols_num], y_train, y_test)\n",
    "print(\"The accuracy for Decision Tree Classifier Tuned is\", round(tunedAccuracyMdlDtHD,2))\n",
    "#res['Accuracy (after tuning)'].append(str(round(tunedAccuracyMdlDtHD,2))+\"%\")\n",
    "#impPg = tunedAccuracyMdlDtHD - accuracyMdlDtHD\n",
    "#res['Improvement percentage'].append(str(round(impPg, 2))+\"%\")\n"
   ]
  },
  {
   "cell_type": "code",
   "execution_count": 20,
   "metadata": {},
   "outputs": [
    {
     "name": "stdout",
     "output_type": "stream",
     "text": [
      "The accuracy for Random Forest Classifier is 85.25\n"
     ]
    }
   ],
   "source": [
    "# Random Forest Classifier\n",
    "\n",
    "from sklearn.ensemble import RandomForestClassifier\n",
    "    \n",
    "mdlRfsHD =  RandomForestClassifier(random_state=1)\n",
    "accuracyMdlRfsHD = get_accuracy(mdlRfsHD, Xle_train[cols_cat+cols_num], Xle_test[cols_cat+cols_num], y_train, y_test)\n",
    "print(\"The accuracy for Random Forest Classifier is\", round(accuracyMdlRfsHD,2))\n",
    "res['Model Name'].append(\"Random Forest\")\n",
    "res['Accuracy (before tuning)'].append(str(round(accuracyMdlRfsHD,2))+\"%\")\n"
   ]
  },
  {
   "cell_type": "code",
   "execution_count": 21,
   "metadata": {},
   "outputs": [
    {
     "name": "stdout",
     "output_type": "stream",
     "text": [
      "Best parameters: {'n_estimators': 2791, 'min_samples_split': 8, 'min_samples_leaf': 4, 'max_features': 'auto', 'max_depth': 9, 'criterion': 'gini', 'bootstrap': True}\n",
      "Best estimator: RandomForestClassifier(max_depth=9, min_samples_leaf=4, min_samples_split=8,\n",
      "                       n_estimators=2791, random_state=1)\n",
      "Best score: 0.8223333333333335\n",
      "The accuracy for Random Forest Classifier Tuned is 86.89\n"
     ]
    }
   ],
   "source": [
    "# Random Forest Tuning\n",
    "\n",
    "mdlRfsHD.get_params()\n",
    "\n",
    "param_dict = {'n_estimators': list(range(1, 3000, 30)),\n",
    "              'criterion': ['gini', 'entropy'],\n",
    "              'max_features': ['auto', 'sqrt', 'log2', None],\n",
    "              'max_depth': list(range(1, 10)),\n",
    "              'min_samples_split': list(range(1,10)),\n",
    "              'min_samples_leaf': list(range(1,5)),\n",
    "              'bootstrap': [True, False]\n",
    "             }\n",
    "\n",
    "# define\n",
    "mdlRfsHD = RandomForestClassifier(random_state=1)\n",
    "# tune\n",
    "mdlRfsHD = RandomizedSearchCV(estimator=mdlRfsHD, param_distributions=param_dict, cv=10, n_jobs=-1)\n",
    "# fit\n",
    "mdlRfsHD.fit(Xle_train[cols_cat+cols_num], y_train)\n",
    "\n",
    "print(\"Best parameters:\", mdlRfsHD.best_params_)\n",
    "print(\"Best estimator:\", mdlRfsHD.best_estimator_)\n",
    "print(\"Best score:\", mdlRfsHD.best_score_)\n",
    "\n",
    "# predict\n",
    "tunedAccuracyMdlRfsHD = get_accuracy(mdlRfsHD, Xle_train[cols_cat+cols_num], Xle_test[cols_cat+cols_num], y_train, y_test)\n",
    "print(\"The accuracy for Random Forest Classifier Tuned is\", round(tunedAccuracyMdlRfsHD,2))\n",
    "res['Accuracy (after tuning)'].append(str(round(tunedAccuracyMdlRfsHD,2))+\"%\")\n",
    "impPg = tunedAccuracyMdlRfsHD - accuracyMdlRfsHD\n",
    "res['Improvement percentage'].append(str(round(impPg, 2))+\"%\")\n"
   ]
  },
  {
   "cell_type": "code",
   "execution_count": 22,
   "metadata": {},
   "outputs": [
    {
     "name": "stdout",
     "output_type": "stream",
     "text": [
      "[00:27:59] WARNING: /Users/travis/build/dmlc/xgboost/src/learner.cc:1061: Starting in XGBoost 1.3.0, the default evaluation metric used with the objective 'binary:logistic' was changed from 'error' to 'logloss'. Explicitly set eval_metric if you'd like to restore the old behavior.\n",
      "The accuracy for XGBoost Classifier is 88.52\n"
     ]
    }
   ],
   "source": [
    "# XGBoost Classifier\n",
    "\n",
    "from xgboost import XGBClassifier\n",
    "\n",
    "mdlXgbHD = XGBClassifier(random_state=1)\n",
    "accuracyMdlXgbHD = get_accuracy(mdlXgbHD, Xle_train[cols_cat], Xle_test[cols_cat], y_train, y_test)\n",
    "print(\"The accuracy for XGBoost Classifier is\", round(accuracyMdlXgbHD,2))\n",
    "res['Model Name'].append(\"XGBoost Forest\")\n",
    "res['Accuracy (before tuning)'].append(str(round(accuracyMdlXgbHD,2))+\"%\")\n",
    "res['Accuracy (after tuning)'].append(\"-\")\n",
    "res['Improvement percentage'].append(\"-\")"
   ]
  },
  {
   "cell_type": "markdown",
   "metadata": {},
   "source": [
    "### Try to improve better Random Forest"
   ]
  },
  {
   "cell_type": "code",
   "execution_count": 23,
   "metadata": {},
   "outputs": [
    {
     "name": "stdout",
     "output_type": "stream",
     "text": [
      "Best parameters: {'n_estimators': 24, 'min_samples_split': 32, 'min_samples_leaf': 29, 'max_features': 'auto', 'max_depth': 2, 'criterion': 'entropy'}\n",
      "Best estimator: RandomForestClassifier(criterion='entropy', max_depth=2, min_samples_leaf=29,\n",
      "                       min_samples_split=32, n_estimators=24, random_state=1)\n",
      "Best score: 0.8388333333333333\n",
      "The accuracy for Random Forest Classifier Tuned is 88.52\n"
     ]
    }
   ],
   "source": [
    "# Improving Random Forest Classifier\n",
    "\n",
    "# tweak 'n_estimators' -> conclusion: accuracy is very tight, leave n < 1500\n",
    "for i in range(1, 3000, 30):\n",
    "    break\n",
    "    # define\n",
    "    mdlRfsHD = RandomForestClassifier(random_state=1, n_estimators=i)\n",
    "    accuracyMdlRfsHD = get_accuracy(mdlRfsHD, Xle_train[cols_cat+cols_num], Xle_test[cols_cat+cols_num], y_train, y_test)\n",
    "    print(\"N estimators\", i, \"The accuracy for Random Forest Classifier is\", round(accuracyMdlRfsHD,2))\n",
    "\n",
    "# tweak 'max_depth' -> conclusion: the higher the depth, the lower the accuracy\n",
    "for i in range(1, 15):\n",
    "    break\n",
    "    # define\n",
    "    mdlRfsHD = RandomForestClassifier(random_state=1, max_depth=i)\n",
    "    accuracyMdlRfsHD = get_accuracy(mdlRfsHD, Xle_train[cols_cat+cols_num], Xle_test[cols_cat+cols_num], y_train, y_test)\n",
    "    print(\"Max depth\", i, \"The accuracy for Random Forest Classifier is\", round(accuracyMdlRfsHD,2))\n",
    "    \n",
    "# tweak 'min_samples_split' -> conclusion: best results are above 50\n",
    "for i in range(2, 100, 3):\n",
    "    break\n",
    "    # define\n",
    "    mdlRfsHD = RandomForestClassifier(random_state=1, min_samples_split=i)\n",
    "    accuracyMdlRfsHD = get_accuracy(mdlRfsHD, Xle_train[cols_cat+cols_num], Xle_test[cols_cat+cols_num], y_train, y_test)\n",
    "    print(\"Min samples split\", i, \"The accuracy for Random Forest Classifier is\", round(accuracyMdlRfsHD,2))\n",
    "    \n",
    "# tweak 'min_samples_leaf' -> conclusion: above 8 min_samples_leaf, we get a better accuracy, which them becomes constant\n",
    "for i in range(1, 30):\n",
    "    break\n",
    "    # define\n",
    "    mdlRfsHD = RandomForestClassifier(random_state=1, min_samples_leaf=i)\n",
    "    accuracyMdlRfsHD = get_accuracy(mdlRfsHD, Xle_train[cols_cat+cols_num], Xle_test[cols_cat+cols_num], y_train, y_test)\n",
    "    print(\"Min samples leaf\", i, \"The accuracy for Random Forest Classifier is\", round(accuracyMdlRfsHD,2))\n",
    "    \n",
    "# Let us hyper parameter tune with our new ranges\n",
    "param_dict = {'n_estimators': list(range(1,50)),\n",
    "              'criterion': ['gini', 'entropy'],\n",
    "              'max_features': ['auto', 'sqrt', 'log2', None],\n",
    "              'max_depth': list(range(1,5)),\n",
    "              'min_samples_split': list(range(1,50)),\n",
    "              'min_samples_leaf': list(range(8,30)),\n",
    "             }\n",
    "\n",
    "# define\n",
    "mdlRfsHD = RandomForestClassifier(random_state=1)\n",
    "# tune\n",
    "mdlRfsHD = RandomizedSearchCV(estimator=mdlRfsHD, param_distributions=param_dict, cv=10, n_jobs=-1)\n",
    "# fit\n",
    "mdlRfsHD.fit(Xle_train[cols_cat+cols_num], y_train)\n",
    "\n",
    "print(\"Best parameters:\", mdlRfsHD.best_params_)\n",
    "print(\"Best estimator:\", mdlRfsHD.best_estimator_)\n",
    "print(\"Best score:\", mdlRfsHD.best_score_)\n",
    "\n",
    "# predict\n",
    "tunedAccuracyMdlRfsHD = get_accuracy(mdlRfsHD, Xle_train[cols_cat+cols_num], Xle_test[cols_cat+cols_num], y_train, y_test)\n",
    "print(\"The accuracy for Random Forest Classifier Tuned is\", round(tunedAccuracyMdlRfsHD,2))\n",
    "\n",
    "# Update its accuracy score\n",
    "res['Accuracy (after tuning)'][3] = str(round(tunedAccuracyMdlRfsHD,2))+\"%\"\n",
    "impPg = tunedAccuracyMdlRfsHD - accuracyMdlRfsHD\n",
    "res['Improvement percentage'][3] = str(round(impPg,2))+\"%\""
   ]
  },
  {
   "cell_type": "markdown",
   "metadata": {},
   "source": [
    "### Display results"
   ]
  },
  {
   "cell_type": "code",
   "execution_count": 24,
   "metadata": {},
   "outputs": [
    {
     "data": {
      "text/html": [
       "<div>\n",
       "<style scoped>\n",
       "    .dataframe tbody tr th:only-of-type {\n",
       "        vertical-align: middle;\n",
       "    }\n",
       "\n",
       "    .dataframe tbody tr th {\n",
       "        vertical-align: top;\n",
       "    }\n",
       "\n",
       "    .dataframe thead th {\n",
       "        text-align: right;\n",
       "    }\n",
       "</style>\n",
       "<table border=\"1\" class=\"dataframe\">\n",
       "  <thead>\n",
       "    <tr style=\"text-align: right;\">\n",
       "      <th></th>\n",
       "      <th>Model Name</th>\n",
       "      <th>Accuracy (before tuning)</th>\n",
       "      <th>Accuracy (after tuning)</th>\n",
       "      <th>Improvement percentage</th>\n",
       "    </tr>\n",
       "  </thead>\n",
       "  <tbody>\n",
       "    <tr>\n",
       "      <th>0</th>\n",
       "      <td>Gaussian Naive Bayes</td>\n",
       "      <td>86.89%</td>\n",
       "      <td>88.52%</td>\n",
       "      <td>1.64%</td>\n",
       "    </tr>\n",
       "    <tr>\n",
       "      <th>1</th>\n",
       "      <td>K-Nearest Neighbors</td>\n",
       "      <td>68.85%</td>\n",
       "      <td>70.49%</td>\n",
       "      <td>1.64%</td>\n",
       "    </tr>\n",
       "    <tr>\n",
       "      <th>2</th>\n",
       "      <td>Decision Tree</td>\n",
       "      <td>83.61%</td>\n",
       "      <td>86.89%</td>\n",
       "      <td>1.64%</td>\n",
       "    </tr>\n",
       "    <tr>\n",
       "      <th>3</th>\n",
       "      <td>Random Forest</td>\n",
       "      <td>85.25%</td>\n",
       "      <td>88.52%</td>\n",
       "      <td>3.28%</td>\n",
       "    </tr>\n",
       "    <tr>\n",
       "      <th>4</th>\n",
       "      <td>XGBoost Forest</td>\n",
       "      <td>88.52%</td>\n",
       "      <td>-</td>\n",
       "      <td>-</td>\n",
       "    </tr>\n",
       "  </tbody>\n",
       "</table>\n",
       "</div>"
      ],
      "text/plain": [
       "             Model Name Accuracy (before tuning) Accuracy (after tuning)  \\\n",
       "0  Gaussian Naive Bayes                   86.89%                  88.52%   \n",
       "1   K-Nearest Neighbors                   68.85%                  70.49%   \n",
       "2         Decision Tree                   83.61%                  86.89%   \n",
       "3         Random Forest                   85.25%                  88.52%   \n",
       "4        XGBoost Forest                   88.52%                       -   \n",
       "\n",
       "  Improvement percentage  \n",
       "0                  1.64%  \n",
       "1                  1.64%  \n",
       "2                  1.64%  \n",
       "3                  3.28%  \n",
       "4                      -  "
      ]
     },
     "execution_count": 24,
     "metadata": {},
     "output_type": "execute_result"
    }
   ],
   "source": [
    "# Append separators values for XGBoost, since it was not tuned\n",
    "res['Accuracy (after tuning)'].append(\"-\")\n",
    "res['Improvement percentage'].append(\"-\")\n",
    "dfRes = pd.DataFrame (res, columns = ['Model Name','Accuracy (before tuning)', 'Accuracy (after tuning)', 'Improvement percentage'])\n",
    "dfRes"
   ]
  },
  {
   "cell_type": "markdown",
   "metadata": {},
   "source": [
    "### Evaluate Random Forest Classifier Model - Confusion Matrix"
   ]
  },
  {
   "cell_type": "code",
   "execution_count": 25,
   "metadata": {},
   "outputs": [
    {
     "name": "stdout",
     "output_type": "stream",
     "text": [
      "[[25  4]\n",
      " [ 4 28]]\n"
     ]
    }
   ],
   "source": [
    "# \"Retrieve\" the model\n",
    "mdlRfsHD.fit(Xle_train[cols_cat+cols_num], y_train)\n",
    "y_test_pred = mdlRfsHD.predict(Xle_test[cols_cat+cols_num])\n",
    "\n",
    "from sklearn.metrics import confusion_matrix\n",
    "\n",
    "print(confusion_matrix(y_test, y_test_pred))"
   ]
  },
  {
   "cell_type": "markdown",
   "metadata": {},
   "source": [
    "#### According to the confusion matrix, from our 61 evaluated cases we predicted 28 cases CORRECTLY where the patient has the disease, and 25 cases also CORRECTLY where the patient does not have the disease. Great results!"
   ]
  },
  {
   "cell_type": "markdown",
   "metadata": {},
   "source": [
    "### Alejandro Gleason Méndez - ag77698"
   ]
  }
 ],
 "metadata": {
  "kernelspec": {
   "display_name": "Python 3",
   "language": "python",
   "name": "python3"
  },
  "language_info": {
   "codemirror_mode": {
    "name": "ipython",
    "version": 3
   },
   "file_extension": ".py",
   "mimetype": "text/x-python",
   "name": "python",
   "nbconvert_exporter": "python",
   "pygments_lexer": "ipython3",
   "version": "3.8.5"
  }
 },
 "nbformat": 4,
 "nbformat_minor": 4
}
